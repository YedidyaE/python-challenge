{
 "cells": [
  {
   "cell_type": "code",
   "execution_count": 53,
   "metadata": {},
   "outputs": [
    {
     "name": "stdout",
     "output_type": "stream",
     "text": [
      "Financial Analysis\n",
      "------------------------------\n",
      "Total Months : 86\n",
      "Total : $38382578\n",
      "Average Change : $ -2315.12\n",
      "Greatest Increase in Profits : $1926159 (Feb-12)\n",
      "Greatest Decrease in Profits : $-2196167 (Sep-13)\n"
     ]
    }
   ],
   "source": [
    "# Import modules \n",
    "import os\n",
    "import csv \n",
    "\n",
    "# Find path and open csv\n",
    "csv_filepath = os.path.join(\"PyBankDataset\", \"budget_data.csv\")\n",
    "\n",
    "#Declare and initialize variables to store data\n",
    "total_months = 0\n",
    "net_total = 0\n",
    "changes = []\n",
    "current_value = None\n",
    "previous_value = None\n",
    "current_change = None\n",
    "min_change = 99999999 #initialize with a big number\n",
    "max_change = 0\n",
    "min_month = \"\"\n",
    "max_month = \"\"\n",
    "\n",
    "\n",
    "#Open CSV file\n",
    "\n",
    "with open(csv_filepath, newline=\"\") as csv_file:\n",
    "    csvreader = csv.reader(csv_file, delimiter=\",\")\n",
    "    next(csvreader, None)  # skip the headers\n",
    "    \n",
    " \n",
    " #Loop through each row to perform the following calculations\n",
    "    for row in csvreader:\n",
    "        #find total months by going down the rows\n",
    "        total_months = total_months + 1\n",
    "        current_value = int(row[1])\n",
    "        #print(current_value)\n",
    "        #find total by adding the monetary value in each row\n",
    "        net_total = net_total + current_value\n",
    "        \n",
    "        #Go through list calculating the changes and appending each change to the list\n",
    "        if previous_value is not None:\n",
    "                    current_change = current_value - previous_value \n",
    "                    changes.append(current_change)\n",
    "                    \n",
    "        previous_value = current_value\n",
    "        \n",
    "        #Set if conditions to find the max and min changes by comparing to current change\n",
    "        #print(\"current change:\", current_change)\n",
    "        if (current_change is not None and current_change > max_change):\n",
    "                     max_change = current_change\n",
    "            #find corresponding month value for maximum change\n",
    "                     max_month = row[0] \n",
    "        if (current_change is not None and current_change < min_change):\n",
    "                     min_change = current_change\n",
    "            #find corresponding month value for minimum change\n",
    "                     min_month = row[0]\n",
    "                \n",
    "#find average change between months\n",
    "    average_change =  sum(changes)/len(changes)    \n",
    "\n",
    "\n",
    "output = f\"\"\"Financial Analysis\n",
    "------------------------------\n",
    "Total Months : {total_months}\n",
    "Total : ${net_total}\n",
    "Average Change : $ {round(average_change, 2)}\n",
    "Greatest Increase in Profits : ${max_change} ({max_month})\n",
    "Greatest Decrease in Profits : ${min_change} ({min_month})\"\"\"\n",
    "print (output)\n",
    "\n",
    "file_to_output = \"final_output.txt\"\n",
    "with open(file_to_output, 'w') as txt_file:\n",
    "    txt_file.write(output)\n",
    "  \n",
    "    \n",
    "\n",
    "\n",
    "\n"
   ]
  },
  {
   "cell_type": "code",
   "execution_count": null,
   "metadata": {},
   "outputs": [],
   "source": []
  },
  {
   "cell_type": "code",
   "execution_count": null,
   "metadata": {},
   "outputs": [],
   "source": []
  }
 ],
 "metadata": {
  "kernelspec": {
   "display_name": "Python 3",
   "language": "python",
   "name": "python3"
  },
  "language_info": {
   "codemirror_mode": {
    "name": "ipython",
    "version": 3
   },
   "file_extension": ".py",
   "mimetype": "text/x-python",
   "name": "python",
   "nbconvert_exporter": "python",
   "pygments_lexer": "ipython3",
   "version": "3.6.5"
  }
 },
 "nbformat": 4,
 "nbformat_minor": 2
}
