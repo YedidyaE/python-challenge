{
 "cells": [
  {
   "cell_type": "code",
   "execution_count": 24,
   "metadata": {},
   "outputs": [
    {
     "name": "stdout",
     "output_type": "stream",
     "text": [
      "Election Results\n",
      "------------------------------\n",
      "Total Votes : 3521001\n",
      "------------------------------\n",
      "Khan :  63.000% (2218231) \n",
      "Correy :  20.000% (704200) \n",
      "Li :  14.000% (492940) \n",
      "O'Tooley :  3.000% (105630) \n",
      "\n",
      "------------------------------\n",
      "Winner: Khan\n"
     ]
    }
   ],
   "source": [
    "\n",
    "# Import modules \n",
    "import os\n",
    "import csv \n",
    "\n",
    "# Find path and open csv\n",
    "csv_filepath = os.path.join(\"PyPollDataset\", \"election_data.csv\")\n",
    "\n",
    "#Declare and initialize variables to store data\n",
    "total_votes = 0\n",
    "candidate_options = [] #unique list of candidates\n",
    "candidate_votes = {} #dictionary of candidates and corresponding votes\n",
    "winning_candidate = \"\"\n",
    "winning_votes = 0\n",
    "candidate_vote_summary = \"\"\n",
    "\n",
    "#Open CSV file\n",
    "\n",
    "with open(csv_filepath, newline=\"\") as csv_file:\n",
    "    csvreader = csv.reader(csv_file, delimiter=\",\")\n",
    "    next(csvreader, None)  # skip the headers\n",
    "    \n",
    "#Loop through each row to perform the following calculations\n",
    "    for row in csvreader:\n",
    "        total_votes = total_votes + 1\n",
    "        candidate_name = row[2]\n",
    "        \n",
    "        #When the if statement runs on first occurence of candidate name, add it to the candidate options list\n",
    "        if candidate_name not in candidate_options:\n",
    "            candidate_options.append(candidate_name)\n",
    "            candidate_votes[candidate_name] = 0\n",
    "            \n",
    "        #Add the candidate_name as key and set 0 as default value for the candidate_votes dictionary\n",
    "        #Go through the rows and keep track of the votes for each candidate          \n",
    "        candidate_votes[candidate_name] = candidate_votes.setdefault(candidate_name, 0) + 1\n",
    "        \n",
    "    #Set variables to hold the votes and vote percentages for each of the four candidates\n",
    "    for candidate_name in candidate_votes:\n",
    "        votes = candidate_votes[candidate_name]\n",
    "        vote_percentage = float(votes)/float(total_votes)* 100\n",
    "        \n",
    "        #set condition to determine the greates number of votes and set the winner\n",
    "        if votes > winning_votes:\n",
    "            winning_votes = votes\n",
    "            winning_candidate = candidate_name \n",
    "            \n",
    "        #Go through the rows and append candidate name, vote percentage and actual number of votes for each candidate on a new line    \n",
    "        candidate_vote_summary = candidate_vote_summary + f\"{candidate_name} : {vote_percentage: .3f}% ({votes}) \\n\"\n",
    "            \n",
    "\n",
    "            \n",
    "            \n",
    "#Create a variable to hold a multi line string\n",
    "output = f\"\"\"Election Results\n",
    "------------------------------\n",
    "Total Votes : {total_votes}\n",
    "------------------------------\n",
    "{candidate_vote_summary}\n",
    "------------------------------\n",
    "Winner: {winning_candidate}\"\"\"\n",
    "print (output)\n",
    "\n",
    "#export as a txt  file\n",
    "file_to_output = \"pypoll_output.txt\"\n",
    "with open(file_to_output, 'w') as txt_file:\n",
    "     txt_file.write(output)\n",
    "  \n",
    "\n",
    "\n",
    "\n",
    "            \n",
    "            \n",
    "\n",
    "\n",
    "\n",
    "\n",
    "        \n",
    "\n",
    "        "
   ]
  },
  {
   "cell_type": "code",
   "execution_count": null,
   "metadata": {},
   "outputs": [],
   "source": []
  },
  {
   "cell_type": "code",
   "execution_count": null,
   "metadata": {},
   "outputs": [],
   "source": []
  },
  {
   "cell_type": "code",
   "execution_count": null,
   "metadata": {},
   "outputs": [],
   "source": []
  },
  {
   "cell_type": "code",
   "execution_count": null,
   "metadata": {},
   "outputs": [],
   "source": []
  },
  {
   "cell_type": "code",
   "execution_count": null,
   "metadata": {},
   "outputs": [],
   "source": []
  },
  {
   "cell_type": "code",
   "execution_count": null,
   "metadata": {},
   "outputs": [],
   "source": []
  },
  {
   "cell_type": "code",
   "execution_count": null,
   "metadata": {},
   "outputs": [],
   "source": []
  },
  {
   "cell_type": "code",
   "execution_count": null,
   "metadata": {},
   "outputs": [],
   "source": []
  },
  {
   "cell_type": "code",
   "execution_count": null,
   "metadata": {},
   "outputs": [],
   "source": []
  },
  {
   "cell_type": "code",
   "execution_count": null,
   "metadata": {},
   "outputs": [],
   "source": []
  },
  {
   "cell_type": "code",
   "execution_count": null,
   "metadata": {},
   "outputs": [],
   "source": []
  },
  {
   "cell_type": "code",
   "execution_count": null,
   "metadata": {},
   "outputs": [],
   "source": []
  },
  {
   "cell_type": "code",
   "execution_count": null,
   "metadata": {},
   "outputs": [],
   "source": []
  },
  {
   "cell_type": "code",
   "execution_count": null,
   "metadata": {},
   "outputs": [],
   "source": []
  },
  {
   "cell_type": "code",
   "execution_count": null,
   "metadata": {},
   "outputs": [],
   "source": []
  },
  {
   "cell_type": "code",
   "execution_count": null,
   "metadata": {},
   "outputs": [],
   "source": []
  },
  {
   "cell_type": "code",
   "execution_count": null,
   "metadata": {},
   "outputs": [],
   "source": []
  },
  {
   "cell_type": "code",
   "execution_count": null,
   "metadata": {},
   "outputs": [],
   "source": []
  },
  {
   "cell_type": "code",
   "execution_count": null,
   "metadata": {},
   "outputs": [],
   "source": []
  },
  {
   "cell_type": "code",
   "execution_count": null,
   "metadata": {},
   "outputs": [],
   "source": []
  },
  {
   "cell_type": "code",
   "execution_count": null,
   "metadata": {},
   "outputs": [],
   "source": []
  }
 ],
 "metadata": {
  "kernelspec": {
   "display_name": "Python 3",
   "language": "python",
   "name": "python3"
  },
  "language_info": {
   "codemirror_mode": {
    "name": "ipython",
    "version": 3
   },
   "file_extension": ".py",
   "mimetype": "text/x-python",
   "name": "python",
   "nbconvert_exporter": "python",
   "pygments_lexer": "ipython3",
   "version": "3.6.5"
  }
 },
 "nbformat": 4,
 "nbformat_minor": 2
}
